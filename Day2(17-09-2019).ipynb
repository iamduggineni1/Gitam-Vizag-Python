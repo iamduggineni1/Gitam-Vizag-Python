{
 "cells": [
  {
   "cell_type": "markdown",
   "metadata": {},
   "source": [
    "### Control Statements\n",
    "- Conditional Statements or selection Statements\n",
    "    - if-else\n",
    "- Iterational Statement or Loop Statements\n",
    "    - while\n",
    "    - for"
   ]
  },
  {
   "cell_type": "code",
   "execution_count": 2,
   "metadata": {},
   "outputs": [
    {
     "name": "stdout",
     "output_type": "stream",
     "text": [
      "2004\n",
      "leap year\n"
     ]
    }
   ],
   "source": [
    "#check the input is leap year or not\n",
    "year = int (input(''))\n",
    "if year % 400 == 0 or (year % 100!= 0 and year % 4 ==0):\n",
    "    print(\"leap year\")\n",
    "else:\n",
    "    print(\"not a leap year\")"
   ]
  },
  {
   "cell_type": "markdown",
   "metadata": {},
   "source": [
    "## while loop"
   ]
  },
  {
   "cell_type": "code",
   "execution_count": 3,
   "metadata": {},
   "outputs": [
    {
     "name": "stdout",
     "output_type": "stream",
     "text": [
      "enter a number: 10\n",
      "1  2  3  4  5  6  7  8  9  10  "
     ]
    }
   ],
   "source": [
    "# print nums from 1 to n\n",
    "# Input : 10\n",
    "# output i 1 2 3 4 5......10\n",
    "a = int (input(\"enter a number: \"))\n",
    "i = 1\n",
    "while i <= a:\n",
    "    print(i,end= '  ')\n",
    "    i = i+1"
   ]
  },
  {
   "cell_type": "code",
   "execution_count": 1,
   "metadata": {},
   "outputs": [
    {
     "name": "stdout",
     "output_type": "stream",
     "text": [
      "10\n",
      "30\n"
     ]
    }
   ],
   "source": [
    "# read  a number as input\n",
    "# output as only even numbers sum frm 1 to N\n",
    "\n",
    "# input :10\n",
    "# output:30\n",
    "\n",
    "a = int(input(''))\n",
    "i = 1\n",
    "s = 0\n",
    "while i <= a:\n",
    "    if i%2 == 0:\n",
    "        s = s + i\n",
    "    i = i + 1\n",
    "print(s)"
   ]
  },
  {
   "cell_type": "code",
   "execution_count": null,
   "metadata": {},
   "outputs": [],
   "source": []
  },
  {
   "cell_type": "code",
   "execution_count": 4,
   "metadata": {},
   "outputs": [
    {
     "name": "stdout",
     "output_type": "stream",
     "text": [
      "123\n",
      "321"
     ]
    }
   ],
   "source": [
    "# Read a number as input\n",
    "# output has be digits of the number\n",
    "#input:123\n",
    "#output:321\n",
    "n = int(input(''))\n",
    "while n!=0:\n",
    "    print(n%10,end ='')\n",
    "    n=n//10"
   ]
  },
  {
   "cell_type": "markdown",
   "metadata": {},
   "source": [
    "## Functional Programming\n",
    "- simple\n",
    "- Easy understand\n"
   ]
  },
  {
   "cell_type": "code",
   "execution_count": 9,
   "metadata": {},
   "outputs": [
    {
     "data": {
      "text/plain": [
       "12"
      ]
     },
     "execution_count": 9,
     "metadata": {},
     "output_type": "execute_result"
    }
   ],
   "source": [
    "#Read a number\n",
    "#print the even digit sum from the number\n",
    "#input:1234\n",
    "#output:6(2+4)\n",
    "\n",
    "def evenDigitSum(n):\n",
    "    s = 0\n",
    "    while n!=0:\n",
    "        r = n%10\n",
    "        if r%2 ==0:\n",
    "            s= s+r\n",
    "        n=n//10\n",
    "    return s\n",
    "evenDigitSum(1458)"
   ]
  },
  {
   "cell_type": "code",
   "execution_count": 17,
   "metadata": {},
   "outputs": [
    {
     "name": "stdout",
     "output_type": "stream",
     "text": [
      "19\n"
     ]
    }
   ],
   "source": [
    "# input:19525\n",
    "# output: 9(large digit of given number)\n",
    "#functional programming\n",
    "\n",
    "def largeDigit(a,b,c):\n",
    "    if(a>b) and (a>c):\n",
    "        large = a\n",
    "    elif(b>c) and (b>=a):\n",
    "        large = b\n",
    "    else:\n",
    "        large = c\n",
    "    return large\n",
    "a=1\n",
    "b=3\n",
    "c=19\n",
    "print(largeDigit(a,b,c))\n",
    "    \n"
   ]
  },
  {
   "cell_type": "code",
   "execution_count": 4,
   "metadata": {},
   "outputs": [
    {
     "name": "stdout",
     "output_type": "stream",
     "text": [
      "yes\n",
      "no\n"
     ]
    }
   ],
   "source": [
    "# read a number a input\n",
    "# output yes or no\n",
    "#input:45\n",
    "#output:yes\n",
    "#input:123\n",
    "#output:no\n",
    "# individual digit factorial sum is same a input numb\n",
    "def factorial(n):\n",
    "    fact=1\n",
    "    i=1\n",
    "    while i<=n:\n",
    "        fact=fact * i\n",
    "        i= i+1\n",
    "    return fact\n",
    "def digitFactSum(n):\n",
    "    s = 0\n",
    "    buffer = n\n",
    "    while n!=0:\n",
    "        r = n%10\n",
    "        s+=factorial(r)\n",
    "        n = n//10\n",
    "    if buffer == s:\n",
    "        return \"yes\"\n",
    "    else:\n",
    "        return \"no\"\n",
    "    return\n",
    "print(digitFactSum(145)) #yes\n",
    "print(digitFactSum(123)) #no"
   ]
  },
  {
   "cell_type": "code",
   "execution_count": 5,
   "metadata": {},
   "outputs": [
    {
     "name": "stdout",
     "output_type": "stream",
     "text": [
      "palindrome\n",
      "not palindrome\n"
     ]
    }
   ],
   "source": [
    "def isPalindrome(n):\n",
    "    rev=0\n",
    "    buffer=n\n",
    "    while n!=0:\n",
    "        rev=rev*10+(n%10)\n",
    "        n=n//10\n",
    "    if buffer==rev:\n",
    "        return \"palindrome\"\n",
    "    return\"not palindrome\"\n",
    "print(isPalindrome(121)) #yes\n",
    "print(isPalindrome(123)) #no"
   ]
  },
  {
   "cell_type": "code",
   "execution_count": 13,
   "metadata": {},
   "outputs": [
    {
     "name": "stdout",
     "output_type": "stream",
     "text": [
      "10 11 12 13 14 15 16 17 18 19 20 None\n"
     ]
    }
   ],
   "source": [
    "def printSeries(lb,ub):\n",
    "    for x in range(lb,ub+1):\n",
    "        print(x,end=' ')\n",
    "    return\n",
    "print(printSeries(10,20))"
   ]
  },
  {
   "cell_type": "code",
   "execution_count": 11,
   "metadata": {},
   "outputs": [
    {
     "name": "stdout",
     "output_type": "stream",
     "text": [
      "500 504 508 512 516 520 "
     ]
    }
   ],
   "source": [
    "#print alternate numbers\n",
    "def alternateNumber(lb,ub):\n",
    "    for x in range(lb,ub+1,4):\n",
    "        print(x,end=' ')\n",
    "    return\n",
    "alternateNumber(500,520)"
   ]
  },
  {
   "cell_type": "code",
   "execution_count": null,
   "metadata": {},
   "outputs": [],
   "source": []
  },
  {
   "cell_type": "code",
   "execution_count": null,
   "metadata": {},
   "outputs": [],
   "source": []
  },
  {
   "cell_type": "code",
   "execution_count": null,
   "metadata": {},
   "outputs": [],
   "source": []
  }
 ],
 "metadata": {
  "kernelspec": {
   "display_name": "Python 3",
   "language": "python",
   "name": "python3"
  },
  "language_info": {
   "codemirror_mode": {
    "name": "ipython",
    "version": 3
   },
   "file_extension": ".py",
   "mimetype": "text/x-python",
   "name": "python",
   "nbconvert_exporter": "python",
   "pygments_lexer": "ipython3",
   "version": "3.7.3"
  }
 },
 "nbformat": 4,
 "nbformat_minor": 2
}
