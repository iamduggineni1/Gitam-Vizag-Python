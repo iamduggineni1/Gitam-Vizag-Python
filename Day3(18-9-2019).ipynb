{
 "cells": [
  {
   "cell_type": "markdown",
   "metadata": {},
   "source": [
    "## String Slicing"
   ]
  },
  {
   "cell_type": "code",
   "execution_count": 6,
   "metadata": {},
   "outputs": [
    {
     "name": "stdout",
     "output_type": "stream",
     "text": [
      "P\n",
      "y\n",
      "6\n",
      "n\n",
      "n\n",
      "o\n"
     ]
    }
   ],
   "source": [
    "s1 = \"Python\"\n",
    "print(s1[0]) # Accessing the first character in a string\n",
    "print(s1[1]) # Accessing the second character in a string\n",
    "print(len(s1)) # len of the string\n",
    "print(s1[len(s1)-1]) #access the last character of string\n",
    "print(s1[-1]) # another way to access the last character\n",
    "print(s1[-2])"
   ]
  },
  {
   "cell_type": "code",
   "execution_count": 10,
   "metadata": {},
   "outputs": [
    {
     "name": "stdout",
     "output_type": "stream",
     "text": [
      "Py\n",
      "on\n",
      "hon\n",
      "tho\n",
      "ytho\n"
     ]
    }
   ],
   "source": [
    "s1='Python'\n",
    "print(s1[0:2]) #Access the first two characters\n",
    "print(s1[-2:]) #Access the two characters\n",
    "print(s1[3:]) #Access the character from 3 to last\n",
    "print(s1[2:5]) #Access the characters from 2 to 5\n",
    "print(s1[1:-1]) #all the characters except 1st and last character"
   ]
  },
  {
   "cell_type": "code",
   "execution_count": 17,
   "metadata": {},
   "outputs": [],
   "source": [
    "s1=\"Python\""
   ]
  },
  {
   "cell_type": "code",
   "execution_count": 14,
   "metadata": {},
   "outputs": [
    {
     "data": {
      "text/plain": [
       "'nohtyP'"
      ]
     },
     "execution_count": 14,
     "metadata": {},
     "output_type": "execute_result"
    }
   ],
   "source": [
    "s1[-1::-1] #reverse the sting"
   ]
  },
  {
   "cell_type": "code",
   "execution_count": 15,
   "metadata": {},
   "outputs": [
    {
     "data": {
      "text/plain": [
       "'Pto'"
      ]
     },
     "execution_count": 15,
     "metadata": {},
     "output_type": "execute_result"
    }
   ],
   "source": [
    "s1[::2] #access the characters in string alternate"
   ]
  },
  {
   "cell_type": "code",
   "execution_count": 16,
   "metadata": {},
   "outputs": [
    {
     "data": {
      "text/plain": [
       "'nhy'"
      ]
     },
     "execution_count": 16,
     "metadata": {},
     "output_type": "execute_result"
    }
   ],
   "source": [
    "s1[::-2] #access the alternate characters from reverse direction"
   ]
  },
  {
   "cell_type": "code",
   "execution_count": 18,
   "metadata": {},
   "outputs": [
    {
     "data": {
      "text/plain": [
       "'Ph'"
      ]
     },
     "execution_count": 18,
     "metadata": {},
     "output_type": "execute_result"
    }
   ],
   "source": [
    "s1[::3]"
   ]
  },
  {
   "cell_type": "markdown",
   "metadata": {},
   "source": [
    "### Functions with String Operations"
   ]
  },
  {
   "cell_type": "code",
   "execution_count": 22,
   "metadata": {},
   "outputs": [
    {
     "data": {
      "text/plain": [
       "'nohtyP'"
      ]
     },
     "execution_count": 22,
     "metadata": {},
     "output_type": "execute_result"
    }
   ],
   "source": [
    "# Reverse the string\n",
    "def reverseStr(s):\n",
    "    return s[-1::-1]\n",
    "reverseStr('Python')"
   ]
  },
  {
   "cell_type": "code",
   "execution_count": 24,
   "metadata": {},
   "outputs": [
    {
     "name": "stdout",
     "output_type": "stream",
     "text": [
      "False\n",
      "True\n"
     ]
    }
   ],
   "source": [
    "# To check the given string is palindrome or not \n",
    "def isPalindrome(s):\n",
    "    if s == s[-1::-1]:\n",
    "        return True\n",
    "    return False\n",
    "print(isPalindrome('Pyhton'))\n",
    "print(isPalindrome('ganag'))"
   ]
  },
  {
   "cell_type": "code",
   "execution_count": 32,
   "metadata": {},
   "outputs": [
    {
     "name": "stdout",
     "output_type": "stream",
     "text": [
      "P T N "
     ]
    }
   ],
   "source": [
    "# Function to print the upper case\n",
    "def printUpper(s):\n",
    "    for i in range(len(s)):\n",
    "        if ord(s[i]) >= 65 and ord(s[i]) <= 90:\n",
    "            print(s[i],end=' ')\n",
    "    return\n",
    "printUpper('PyThoN')"
   ]
  },
  {
   "cell_type": "code",
   "execution_count": 35,
   "metadata": {},
   "outputs": [
    {
     "data": {
      "text/plain": [
       "97"
      ]
     },
     "execution_count": 35,
     "metadata": {},
     "output_type": "execute_result"
    }
   ],
   "source": [
    "ord('a')"
   ]
  },
  {
   "cell_type": "code",
   "execution_count": 43,
   "metadata": {},
   "outputs": [
    {
     "data": {
      "text/plain": [
       "'SameCount'"
      ]
     },
     "execution_count": 43,
     "metadata": {},
     "output_type": "execute_result"
    }
   ],
   "source": [
    "def findCharCount(s):\n",
    "    countUpper =0\n",
    "    countLower =0\n",
    "    for i in range(len(s)):\n",
    "        if ord(s[i]) >= 65 and ord(s[i]) <= 90:\n",
    "            countUpper += 1\n",
    "        elif ord(s[i]) >= 97 and ord(s[i]) <= 122:\n",
    "            countLower += 1\n",
    "    if countLower == countUpper:\n",
    "        return \"SameCount\"\n",
    "    return \"Programming\"\n",
    "findCharCount('PyThoN')"
   ]
  },
  {
   "cell_type": "code",
   "execution_count": 44,
   "metadata": {},
   "outputs": [
    {
     "name": "stdout",
     "output_type": "stream",
     "text": [
      "1 8 8 9 "
     ]
    }
   ],
   "source": [
    "# extract digits from the string\n",
    "# input: strig\n",
    "# output:  1 8 8 9\n",
    "\n",
    "def extractDigits(s):\n",
    "    for i in range(len(s)):\n",
    "        if ord(s[i]) >=48 and ord(s[i]) <= 57:\n",
    "            print(s[i],end=' ')\n",
    "    return\n",
    "extractDigits('Appli18cation89')"
   ]
  },
  {
   "cell_type": "code",
   "execution_count": 48,
   "metadata": {},
   "outputs": [
    {
     "name": "stdout",
     "output_type": "stream",
     "text": [
      "1 8 8 9 "
     ]
    },
    {
     "data": {
      "text/plain": [
       "26"
      ]
     },
     "execution_count": 48,
     "metadata": {},
     "output_type": "execute_result"
    }
   ],
   "source": [
    "#add nums from given  string\n",
    "def sumDigits(s):\n",
    "    sum=0\n",
    "    for i in range(len(s)):\n",
    "        if ord(s[i]) >=48 and ord(s[i]) <= 57:\n",
    "            sum += (ord(s[i])-48)\n",
    "            print(s[i],end=' ')\n",
    "    return sum\n",
    "sumDigits('Appli18cation89')"
   ]
  },
  {
   "cell_type": "code",
   "execution_count": 72,
   "metadata": {},
   "outputs": [
    {
     "name": "stdout",
     "output_type": "stream",
     "text": [
      "M A D E "
     ]
    }
   ],
   "source": [
    "# Function to 2nd word should be upper case\n",
    "def wordUpperCase(s):\n",
    "    countSpace= 0\n",
    "    for i in range(len(s)):\n",
    "        if ord(s[i]) == 32:\n",
    "            countSpace +=1\n",
    "        if countSpace==1:\n",
    "            if ord(s[i]) >=65 and ord(s[i])<=90:\n",
    "                print(s[i],end=' ')\n",
    "            elif ord(s[i]) >=97 and ord(s[i]) <=122:\n",
    "                print(chr(ord(s[i])-32),end=' ')\n",
    "        if countSpace == 2:\n",
    "            break\n",
    "    return\n",
    "wordUpperCase('Python Made Easy')"
   ]
  },
  {
   "cell_type": "markdown",
   "metadata": {},
   "source": [
    "### List\n",
    "- One of the DS in Python\n",
    "- DS means to store,sort and search options\n",
    "- it's one common DS in Python,the items of List separated by comma and enclosed in squre brackets[]"
   ]
  },
  {
   "cell_type": "code",
   "execution_count": 77,
   "metadata": {},
   "outputs": [
    {
     "name": "stdout",
     "output_type": "stream",
     "text": [
      "[1, 8, 9, 16]\n",
      "['Gitam', 123, 2018, 1029, 'Vizag']\n",
      "[1, 8]\n",
      "[1, 9]\n"
     ]
    }
   ],
   "source": [
    "li =[1,8,9,16]\n",
    "l1 = [\"Gitam\",123,2018,1029,\"Vizag\"]\n",
    "print(li)\n",
    "print(l1)\n",
    "print(li[:2])\n",
    "print(li[::2])"
   ]
  },
  {
   "cell_type": "code",
   "execution_count": 78,
   "metadata": {},
   "outputs": [
    {
     "name": "stdout",
     "output_type": "stream",
     "text": [
      "['Gitam', 123, 2018, 1029, 'Vizag']\n"
     ]
    }
   ],
   "source": [
    "l1 = [\"Gitam\",123,2018,1029,\"Vizag\"]\n",
    "print(l1)\n"
   ]
  },
  {
   "cell_type": "code",
   "execution_count": 79,
   "metadata": {},
   "outputs": [
    {
     "name": "stdout",
     "output_type": "stream",
     "text": [
      "['Gitam', 123, 2018, 'Vizag']\n"
     ]
    }
   ],
   "source": [
    "del l1[3]\n",
    "print(l1)"
   ]
  },
  {
   "cell_type": "code",
   "execution_count": 82,
   "metadata": {},
   "outputs": [
    {
     "name": "stdout",
     "output_type": "stream",
     "text": [
      "23\n",
      "3\n",
      "48\n",
      "9.6\n",
      "9\n"
     ]
    }
   ],
   "source": [
    "li=[9,3,6,7,23]\n",
    "print(max(li))\n",
    "print(min(li))\n",
    "print(sum(li))\n",
    "print(sum(li)/len(li))\n",
    "print(sum(li)//len(li))"
   ]
  },
  {
   "cell_type": "code",
   "execution_count": 90,
   "metadata": {},
   "outputs": [
    {
     "data": {
      "text/plain": [
       "[12, 4, 9, 35, 29]"
      ]
     },
     "execution_count": 90,
     "metadata": {},
     "output_type": "execute_result"
    }
   ],
   "source": [
    "#methods of list\n",
    "list = [12,4,9,35,29]\n",
    "list"
   ]
  },
  {
   "cell_type": "code",
   "execution_count": 92,
   "metadata": {},
   "outputs": [
    {
     "data": {
      "text/plain": [
       "[12, 4, 9, 35, 29, 39, 39]"
      ]
     },
     "execution_count": 92,
     "metadata": {},
     "output_type": "execute_result"
    }
   ],
   "source": [
    "list.append(39) # add item at the end of the list\n",
    "list"
   ]
  },
  {
   "cell_type": "code",
   "execution_count": 98,
   "metadata": {},
   "outputs": [
    {
     "data": {
      "text/plain": [
       "[12, 4, 56, 9, 35, 29, 39, 39]"
      ]
     },
     "execution_count": 98,
     "metadata": {},
     "output_type": "execute_result"
    }
   ],
   "source": [
    "list.insert(2,56) # add the  new item at specific index\n",
    "list"
   ]
  },
  {
   "cell_type": "code",
   "execution_count": 100,
   "metadata": {},
   "outputs": [
    {
     "data": {
      "text/plain": [
       "2"
      ]
     },
     "execution_count": 100,
     "metadata": {},
     "output_type": "execute_result"
    }
   ],
   "source": [
    "list.append(8)\n",
    "list.count(39) # returns the value how many object repeted\n",
    "list.index(56)"
   ]
  },
  {
   "cell_type": "code",
   "execution_count": 102,
   "metadata": {},
   "outputs": [
    {
     "data": {
      "text/plain": [
       "[8, 9, 12, 29, 35, 39]"
      ]
     },
     "execution_count": 102,
     "metadata": {},
     "output_type": "execute_result"
    }
   ],
   "source": [
    "# method of list object\n",
    "list.sort()\n",
    "list.pop()\n",
    "list.pop(0)\n",
    "list"
   ]
  },
  {
   "cell_type": "code",
   "execution_count": 105,
   "metadata": {},
   "outputs": [
    {
     "name": "stdout",
     "output_type": "stream",
     "text": [
      "45\n",
      "22\n"
     ]
    }
   ],
   "source": [
    "#function t return the larhe number from the list\n",
    "def largeNumber(li):\n",
    "    list.sort()\n",
    "    return list[-1]\n",
    "def genericLarge(list,n):\n",
    "    list.sort()\n",
    "    return list[-n]\n",
    "list = [19,1,25,6,9,45,22]\n",
    "print(largeNumber(list))\n",
    "print(genericLarge(list,3))"
   ]
  },
  {
   "cell_type": "code",
   "execution_count": 107,
   "metadata": {},
   "outputs": [
    {
     "name": "stdout",
     "output_type": "stream",
     "text": [
      "1\n",
      "19\n"
     ]
    }
   ],
   "source": [
    "# to find least num from list\n",
    "def leastNumber(list):\n",
    "    list.sort()\n",
    "    return list[0]\n",
    "def genericNumber(list,n):\n",
    "    li.sort()\n",
    "    return li[n-1]\n",
    "li = [19,1,25,6,9,45,22]\n",
    "print(leastNumber(list))\n",
    "print(genericNumber(list,4))"
   ]
  },
  {
   "cell_type": "markdown",
   "metadata": {},
   "source": [
    "## File Handling in Python"
   ]
  },
  {
   "cell_type": "code",
   "execution_count": 110,
   "metadata": {},
   "outputs": [
    {
     "name": "stdout",
     "output_type": "stream",
     "text": [
      "file is succesfully created  an data has inserted\n"
     ]
    }
   ],
   "source": [
    "def createFile(filename):\n",
    "    f = open(filename,'w')\n",
    "    for i in range(10):\n",
    "        f.write('this is %d line \\n' % i)\n",
    "    print('file is succesfully created  an data has inserted')\n",
    "    return\n",
    "createFile('ram.txt')"
   ]
  },
  {
   "cell_type": "code",
   "execution_count": 109,
   "metadata": {},
   "outputs": [
    {
     "data": {
      "text/plain": [
       "'C:\\\\Users\\\\cse319\\\\Desktop\\\\Python File\\\\Day1(16-09-2019)'"
      ]
     },
     "execution_count": 109,
     "metadata": {},
     "output_type": "execute_result"
    }
   ],
   "source": [
    "pwd"
   ]
  },
  {
   "cell_type": "code",
   "execution_count": 112,
   "metadata": {},
   "outputs": [
    {
     "name": "stdout",
     "output_type": "stream",
     "text": [
      "Program Completed Successfully\n"
     ]
    }
   ],
   "source": [
    "#mode -- a (If the file is not avaliable it creates the file\n",
    "#     -- If the file is already present with same name\n",
    "#     -- append the data at end of the previous line\n",
    "def appendMode(filename):\n",
    "    f = open(filename,'a')\n",
    "    f.write('Gitam Vizag\\n')\n",
    "    f.write('Python Programming')\n",
    "    print('Program Completed Successfully')\n",
    "    return\n",
    "appendMode('ram.txt')"
   ]
  },
  {
   "cell_type": "code",
   "execution_count": 115,
   "metadata": {},
   "outputs": [
    {
     "name": "stdout",
     "output_type": "stream",
     "text": [
      "this is 0 line \n",
      "this is 1 line \n",
      "this is 2 line \n",
      "this is 3 line \n",
      "this is 4 line \n",
      "this is 5 line \n",
      "this is 6 line \n",
      "this is 7 line \n",
      "this is 8 line \n",
      "this is 9 line \n",
      "Gitam Vizag\n",
      "Python Programming\n"
     ]
    }
   ],
   "source": [
    "#function to read the file\n",
    "def readFileData(filename):\n",
    "    f=open(filename,'r')\n",
    "    if f.mode == 'r':\n",
    "        a = f.read()\n",
    "        print(a)\n",
    "    f.close()\n",
    "    return\n",
    "readFileData('ram.txt')"
   ]
  },
  {
   "cell_type": "code",
   "execution_count": 120,
   "metadata": {},
   "outputs": [
    {
     "data": {
      "text/plain": [
       "44"
      ]
     },
     "execution_count": 120,
     "metadata": {},
     "output_type": "execute_result"
    }
   ],
   "source": [
    "#word count \n",
    "def wordCount(filename):\n",
    "    with open(filename,'r') as f:\n",
    "        if f.mode == 'r':\n",
    "            a=f.read()\n",
    "            list=a.split()#Divides the word by using white space\n",
    "        return len(list)\n",
    "wordCount('ram.txt')"
   ]
  },
  {
   "cell_type": "code",
   "execution_count": 134,
   "metadata": {},
   "outputs": [
    {
     "data": {
      "text/plain": [
       "10"
      ]
     },
     "execution_count": 134,
     "metadata": {},
     "output_type": "execute_result"
    }
   ],
   "source": [
    "def specificWordCount(filename,word):\n",
    "    with open(filename,'r') as f:\n",
    "        if f.mode=='r':\n",
    "            a=f.read()\n",
    "            list=a.split()\n",
    "    return list.count(word)\n",
    "specificWordCount('ram.txt','this')"
   ]
  },
  {
   "cell_type": "code",
   "execution_count": 151,
   "metadata": {
    "scrolled": true
   },
   "outputs": [
    {
     "ename": "TypeError",
     "evalue": "'list' object is not callable",
     "output_type": "error",
     "traceback": [
      "\u001b[1;31m---------------------------------------------------------------------------\u001b[0m",
      "\u001b[1;31mTypeError\u001b[0m                                 Traceback (most recent call last)",
      "\u001b[1;32m<ipython-input-151-628bd3dc7ed7>\u001b[0m in \u001b[0;36m<module>\u001b[1;34m\u001b[0m\n\u001b[0;32m      6\u001b[0m             \u001b[0ml1\u001b[0m\u001b[1;33m=\u001b[0m\u001b[0mlist\u001b[0m\u001b[1;33m(\u001b[0m\u001b[0ma\u001b[0m\u001b[1;33m)\u001b[0m\u001b[1;33m\u001b[0m\u001b[1;33m\u001b[0m\u001b[0m\n\u001b[0;32m      7\u001b[0m     \u001b[1;32mreturn\u001b[0m \u001b[0mlen\u001b[0m\u001b[1;33m(\u001b[0m\u001b[0ml1\u001b[0m\u001b[1;33m)\u001b[0m\u001b[1;33m\u001b[0m\u001b[1;33m\u001b[0m\u001b[0m\n\u001b[1;32m----> 8\u001b[1;33m \u001b[0mcharCount\u001b[0m\u001b[1;33m(\u001b[0m\u001b[1;34m'ram.txt'\u001b[0m\u001b[1;33m)\u001b[0m\u001b[1;33m\u001b[0m\u001b[1;33m\u001b[0m\u001b[0m\n\u001b[0m",
      "\u001b[1;32m<ipython-input-151-628bd3dc7ed7>\u001b[0m in \u001b[0;36mcharCount\u001b[1;34m(filename)\u001b[0m\n\u001b[0;32m      4\u001b[0m         \u001b[1;32mif\u001b[0m \u001b[0mf\u001b[0m\u001b[1;33m.\u001b[0m\u001b[0mmode\u001b[0m\u001b[1;33m==\u001b[0m\u001b[1;34m'r'\u001b[0m\u001b[1;33m:\u001b[0m\u001b[1;33m\u001b[0m\u001b[1;33m\u001b[0m\u001b[0m\n\u001b[0;32m      5\u001b[0m             \u001b[0ma\u001b[0m\u001b[1;33m=\u001b[0m\u001b[0mf\u001b[0m\u001b[1;33m.\u001b[0m\u001b[0mread\u001b[0m\u001b[1;33m(\u001b[0m\u001b[1;33m)\u001b[0m\u001b[1;33m\u001b[0m\u001b[1;33m\u001b[0m\u001b[0m\n\u001b[1;32m----> 6\u001b[1;33m             \u001b[0ml1\u001b[0m\u001b[1;33m=\u001b[0m\u001b[0mlist\u001b[0m\u001b[1;33m(\u001b[0m\u001b[0ma\u001b[0m\u001b[1;33m)\u001b[0m\u001b[1;33m\u001b[0m\u001b[1;33m\u001b[0m\u001b[0m\n\u001b[0m\u001b[0;32m      7\u001b[0m     \u001b[1;32mreturn\u001b[0m \u001b[0mlen\u001b[0m\u001b[1;33m(\u001b[0m\u001b[0ml1\u001b[0m\u001b[1;33m)\u001b[0m\u001b[1;33m\u001b[0m\u001b[1;33m\u001b[0m\u001b[0m\n\u001b[0;32m      8\u001b[0m \u001b[0mcharCount\u001b[0m\u001b[1;33m(\u001b[0m\u001b[1;34m'ram.txt'\u001b[0m\u001b[1;33m)\u001b[0m\u001b[1;33m\u001b[0m\u001b[1;33m\u001b[0m\u001b[0m\n",
      "\u001b[1;31mTypeError\u001b[0m: 'list' object is not callable"
     ]
    }
   ],
   "source": [
    "# function to find the character count from file\n",
    "def charCount(filename):\n",
    "    with open(filename,'r') as f:\n",
    "        if f.mode=='r':\n",
    "            a=f.read()\n",
    "            l1=list(a)\n",
    "    return len(l1)\n",
    "charCount('ram.txt')"
   ]
  },
  {
   "cell_type": "code",
   "execution_count": 146,
   "metadata": {},
   "outputs": [
    {
     "data": {
      "text/plain": [
       "12"
      ]
     },
     "execution_count": 146,
     "metadata": {},
     "output_type": "execute_result"
    }
   ],
   "source": [
    "def findLineCount(filename):\n",
    "    with open(filename,'r') as f:\n",
    "        if f.mode=='r':\n",
    "            a=f.read()\n",
    "            li=a.split('\\n')\n",
    "        return len(li)\n",
    "findLineCount('ram.txt')"
   ]
  },
  {
   "cell_type": "code",
   "execution_count": 150,
   "metadata": {},
   "outputs": [
    {
     "ename": "TypeError",
     "evalue": "'list' object is not callable",
     "output_type": "error",
     "traceback": [
      "\u001b[1;31m---------------------------------------------------------------------------\u001b[0m",
      "\u001b[1;31mTypeError\u001b[0m                                 Traceback (most recent call last)",
      "\u001b[1;32m<ipython-input-150-e4e61ae09336>\u001b[0m in \u001b[0;36m<module>\u001b[1;34m\u001b[0m\n\u001b[0;32m     16\u001b[0m     \u001b[0moutput\u001b[0m \u001b[1;33m=\u001b[0m \u001b[1;34m'Upper Case : {0} Lower Case : {1} Digit :{2}'\u001b[0m\u001b[1;33m.\u001b[0m\u001b[0mformat\u001b[0m\u001b[1;33m(\u001b[0m\u001b[0mcntUpper\u001b[0m\u001b[1;33m,\u001b[0m\u001b[0mcntLower\u001b[0m\u001b[1;33m,\u001b[0m\u001b[0mcntDigit\u001b[0m\u001b[1;33m)\u001b[0m\u001b[1;33m\u001b[0m\u001b[1;33m\u001b[0m\u001b[0m\n\u001b[0;32m     17\u001b[0m     \u001b[1;32mreturn\u001b[0m \u001b[0moutput\u001b[0m\u001b[1;33m\u001b[0m\u001b[1;33m\u001b[0m\u001b[0m\n\u001b[1;32m---> 18\u001b[1;33m \u001b[0mcaseCount\u001b[0m\u001b[1;33m(\u001b[0m\u001b[1;34m'ram.txt'\u001b[0m\u001b[1;33m)\u001b[0m\u001b[1;33m\u001b[0m\u001b[1;33m\u001b[0m\u001b[0m\n\u001b[0m",
      "\u001b[1;32m<ipython-input-150-e4e61ae09336>\u001b[0m in \u001b[0;36mcaseCount\u001b[1;34m(filename)\u001b[0m\n\u001b[0;32m      6\u001b[0m         \u001b[1;32mif\u001b[0m \u001b[0mf\u001b[0m\u001b[1;33m.\u001b[0m\u001b[0mmode\u001b[0m \u001b[1;33m==\u001b[0m\u001b[1;34m'r'\u001b[0m\u001b[1;33m:\u001b[0m\u001b[1;33m\u001b[0m\u001b[1;33m\u001b[0m\u001b[0m\n\u001b[0;32m      7\u001b[0m             \u001b[0ma\u001b[0m \u001b[1;33m=\u001b[0m \u001b[0mf\u001b[0m\u001b[1;33m.\u001b[0m\u001b[0mread\u001b[0m\u001b[1;33m(\u001b[0m\u001b[1;33m)\u001b[0m\u001b[1;33m\u001b[0m\u001b[1;33m\u001b[0m\u001b[0m\n\u001b[1;32m----> 8\u001b[1;33m             \u001b[0mli\u001b[0m \u001b[1;33m=\u001b[0m\u001b[0mlist\u001b[0m\u001b[1;33m(\u001b[0m\u001b[0ma\u001b[0m\u001b[1;33m)\u001b[0m\u001b[1;33m\u001b[0m\u001b[1;33m\u001b[0m\u001b[0m\n\u001b[0m\u001b[0;32m      9\u001b[0m     \u001b[1;32mfor\u001b[0m \u001b[0mi\u001b[0m \u001b[1;32min\u001b[0m \u001b[0mrange\u001b[0m\u001b[1;33m(\u001b[0m\u001b[0mlen\u001b[0m\u001b[1;33m(\u001b[0m\u001b[0mli\u001b[0m\u001b[1;33m)\u001b[0m\u001b[1;33m)\u001b[0m\u001b[1;33m:\u001b[0m\u001b[1;33m\u001b[0m\u001b[1;33m\u001b[0m\u001b[0m\n\u001b[0;32m     10\u001b[0m         \u001b[1;32mif\u001b[0m \u001b[0mord\u001b[0m\u001b[1;33m(\u001b[0m\u001b[0mli\u001b[0m\u001b[1;33m[\u001b[0m\u001b[0mi\u001b[0m\u001b[1;33m]\u001b[0m\u001b[1;33m)\u001b[0m\u001b[1;33m>=\u001b[0m\u001b[1;36m65\u001b[0m \u001b[1;32mand\u001b[0m \u001b[0mord\u001b[0m\u001b[1;33m(\u001b[0m\u001b[0mli\u001b[0m\u001b[1;33m[\u001b[0m\u001b[0mi\u001b[0m\u001b[1;33m]\u001b[0m\u001b[1;33m)\u001b[0m \u001b[1;33m<=\u001b[0m\u001b[1;36m90\u001b[0m\u001b[1;33m:\u001b[0m\u001b[1;33m\u001b[0m\u001b[1;33m\u001b[0m\u001b[0m\n",
      "\u001b[1;31mTypeError\u001b[0m: 'list' object is not callable"
     ]
    }
   ],
   "source": [
    "def caseCount(filename):\n",
    "    cntUpper = 0\n",
    "    cntLower = 0\n",
    "    cntDigit = 0\n",
    "    with open(filename,'r') as f:\n",
    "        if f.mode =='r':\n",
    "            a = f.read()\n",
    "            li =list(a)\n",
    "    for i in range(len(li)):\n",
    "        if ord(li[i])>=65 and ord(li[i]) <=90:\n",
    "            cntUpper=cntUpper+1\n",
    "        elif ord(li[i])>=97 and ord(li[i]) <=122:\n",
    "            cntLower+=1\n",
    "        elif ord(li[i])>48 and ord(li[i]) <=57:\n",
    "            cntDigit+=1\n",
    "    output = 'Upper Case : {0} Lower Case : {1} Digit :{2}'.format(cntUpper,cntLower,cntDigit)\n",
    "    return output\n",
    "caseCount('ram.txt')"
   ]
  },
  {
   "cell_type": "code",
   "execution_count": null,
   "metadata": {},
   "outputs": [],
   "source": []
  },
  {
   "cell_type": "code",
   "execution_count": null,
   "metadata": {},
   "outputs": [],
   "source": []
  },
  {
   "cell_type": "code",
   "execution_count": null,
   "metadata": {},
   "outputs": [],
   "source": []
  },
  {
   "cell_type": "code",
   "execution_count": null,
   "metadata": {},
   "outputs": [],
   "source": []
  },
  {
   "cell_type": "code",
   "execution_count": null,
   "metadata": {},
   "outputs": [],
   "source": []
  },
  {
   "cell_type": "code",
   "execution_count": null,
   "metadata": {},
   "outputs": [],
   "source": []
  },
  {
   "cell_type": "code",
   "execution_count": null,
   "metadata": {},
   "outputs": [],
   "source": []
  },
  {
   "cell_type": "code",
   "execution_count": null,
   "metadata": {},
   "outputs": [],
   "source": []
  }
 ],
 "metadata": {
  "kernelspec": {
   "display_name": "Python 3",
   "language": "python",
   "name": "python3"
  },
  "language_info": {
   "codemirror_mode": {
    "name": "ipython",
    "version": 3
   },
   "file_extension": ".py",
   "mimetype": "text/x-python",
   "name": "python",
   "nbconvert_exporter": "python",
   "pygments_lexer": "ipython3",
   "version": "3.7.3"
  }
 },
 "nbformat": 4,
 "nbformat_minor": 2
}
