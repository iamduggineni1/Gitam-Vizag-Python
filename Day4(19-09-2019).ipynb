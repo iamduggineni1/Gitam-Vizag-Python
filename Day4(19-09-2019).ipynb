{
 "cells": [
  {
   "cell_type": "markdown",
   "metadata": {},
   "source": [
    "### String boolean Function\n",
    "- True or False\n",
    "- islower()-- True if the string have all characters lower case\n"
   ]
  },
  {
   "cell_type": "code",
   "execution_count": null,
   "metadata": {},
   "outputs": [],
   "source": [
    "s1=\"Python Programming\"\n",
    "print(s1)"
   ]
  },
  {
   "cell_type": "markdown",
   "metadata": {},
   "source": [
    "### String Methods\n",
    "- split() -returns the list of string seperated by whitespace\n",
    "- replace() - returns the string replaces by wod/character\n",
    "- join() - concatination of two strings\n"
   ]
  },
  {
   "cell_type": "code",
   "execution_count": null,
   "metadata": {},
   "outputs": [],
   "source": [
    "s1=\"python programming learn made easy\"\n",
    "li=s1.split() # Defaulwhite space\n",
    "print(li)"
   ]
  },
  {
   "cell_type": "code",
   "execution_count": null,
   "metadata": {},
   "outputs": [],
   "source": [
    "s1=\"python programming learn made easy\"\n",
    "print(s1.replace(' ','-'))"
   ]
  },
  {
   "cell_type": "code",
   "execution_count": null,
   "metadata": {},
   "outputs": [],
   "source": [
    "s1=\"python programming learn made easy\"\n",
    "print(s1.replace('a','@'))"
   ]
  },
  {
   "cell_type": "code",
   "execution_count": null,
   "metadata": {},
   "outputs": [],
   "source": [
    "s1= \"pyhton\"\n",
    "print(\" \".join(s1))"
   ]
  },
  {
   "cell_type": "code",
   "execution_count": null,
   "metadata": {},
   "outputs": [],
   "source": [
    "#classic version(c,c++)\n"
   ]
  },
  {
   "cell_type": "markdown",
   "metadata": {},
   "source": [
    "## Data structures\n",
    "- list\n",
    "- tuples\n",
    "- dictionaries"
   ]
  },
  {
   "cell_type": "markdown",
   "metadata": {},
   "source": [
    "## dictionaries\n",
    "- It works on concept of unique data\n",
    "- key,value is the unique identifier a value\n",
    "- each key is separated from value colon(:)\n",
    "- each key and value ids seperated by comma(,)\n",
    "- dictionaries are enclosed with curly brackets(())"
   ]
  },
  {
   "cell_type": "code",
   "execution_count": null,
   "metadata": {},
   "outputs": [],
   "source": [
    "d1 = {\"Name\":\"Gitam\",\"EmailId\":\"sivagitam@gmail.com\",\"Address\":\"Vizag\"}\n",
    "print(d1)"
   ]
  },
  {
   "cell_type": "code",
   "execution_count": null,
   "metadata": {},
   "outputs": [],
   "source": [
    "d1[\"EmailId\"] # Access the specific key value"
   ]
  },
  {
   "cell_type": "code",
   "execution_count": null,
   "metadata": {},
   "outputs": [],
   "source": [
    "d1[\"EmailId\"] = \"Gitamsiva@hotmail.com\" # Update the value using key"
   ]
  },
  {
   "cell_type": "code",
   "execution_count": null,
   "metadata": {},
   "outputs": [],
   "source": [
    "d1.keys() #all the keys dict object"
   ]
  },
  {
   "cell_type": "code",
   "execution_count": null,
   "metadata": {},
   "outputs": [],
   "source": [
    "d1.values() #All the values of dict object"
   ]
  },
  {
   "cell_type": "code",
   "execution_count": null,
   "metadata": {},
   "outputs": [],
   "source": [
    "del d1[\"EmailId\"] #only deletes one key and value"
   ]
  },
  {
   "cell_type": "code",
   "execution_count": null,
   "metadata": {},
   "outputs": [],
   "source": [
    "d1.keys()"
   ]
  },
  {
   "cell_type": "code",
   "execution_count": null,
   "metadata": {},
   "outputs": [],
   "source": [
    "d1.values()"
   ]
  },
  {
   "cell_type": "code",
   "execution_count": null,
   "metadata": {},
   "outputs": [],
   "source": []
  },
  {
   "cell_type": "markdown",
   "metadata": {},
   "source": [
    "### Contact Application\n",
    "- Add contact details\n",
    "- search contact details\n",
    "- List all the contacts(merg/import)\n",
    "    - name 1: value\n",
    "    - name 2: value\n",
    "- modify contact details like update"
   ]
  },
  {
   "cell_type": "code",
   "execution_count": null,
   "metadata": {},
   "outputs": [],
   "source": [
    "contacts = {} # Empty Dict oject\n",
    "# Let's create a function to add contact details\n",
    "def addContact(name,phone):\n",
    "    if name not in contacts:#cond to check name is exists or not\n",
    "        contacts[name] = phone\n",
    "        print('contact details are added successfully')\n",
    "    else:\n",
    "        print('name is already exists')\n",
    "    return\n",
    "addContact('Dinesh','7893733218')"
   ]
  },
  {
   "cell_type": "code",
   "execution_count": null,
   "metadata": {},
   "outputs": [],
   "source": [
    "def addContact(name,phone):\n",
    "    if name not in contacts:#cond to check name is exists or not\n",
    "        contacts[name] = phone\n",
    "        print('contact details are added successfully')\n",
    "    else:\n",
    "        print('name is already exists')\n",
    "    return\n",
    "addContact('Ajay','1234567849')\n",
    "addContact('Ram','99665544455')"
   ]
  },
  {
   "cell_type": "code",
   "execution_count": null,
   "metadata": {},
   "outputs": [],
   "source": [
    "def searchContact(name):\n",
    "    if name in contacts:\n",
    "        print(name,\" : \",contacts[name])\n",
    "    else:\n",
    "        print('{0} does not present'.format(name))\n",
    "        #print('%s does not present' %name)\n",
    "    return\n",
    "searchContact('Ajay')\n",
    "searchContact('Gitam')\n",
    "searchContact('Dinesh')"
   ]
  },
  {
   "cell_type": "code",
   "execution_count": null,
   "metadata": {},
   "outputs": [],
   "source": [
    "def importContact(newContacts):\n",
    "    contacts.update(newContacts)\n",
    "    print(len(newContacts.keys()),'Contact are added')\n",
    "    return\n",
    "newContacts = {'Gitam':9988775544,'Anil':6655441122,'Python':3366998855}\n",
    "importContact(newContacts)"
   ]
  },
  {
   "cell_type": "code",
   "execution_count": null,
   "metadata": {},
   "outputs": [],
   "source": [
    "contacts"
   ]
  },
  {
   "cell_type": "markdown",
   "metadata": {},
   "source": [
    "### Tuples\n",
    "- tuples enclosed with parenthesis()\n",
    "\n",
    "### Difference b/w tuples and list\n",
    "    - List are mutable -- can be change/modify\n",
    "        - read and write the data\n",
    "    - Tuples are imutable -- can't be changed/modified\n",
    "        - read data only"
   ]
  },
  {
   "cell_type": "code",
   "execution_count": null,
   "metadata": {},
   "outputs": [],
   "source": [
    "t1 = (1,2,3,4,5)\n"
   ]
  },
  {
   "cell_type": "markdown",
   "metadata": {},
   "source": [
    "## standard Libraries\n",
    "\n",
    ". Regular Expressions\n",
    "- To Validate the Indian Mobile\n",
    "- To Validate the EmaillD\n",
    "- To Validate the Username\n",
    "- To Validate the Password\n",
    "\n",
    ". Understanding the Regular Expressions\n",
    "- [0-9] -- Any digit Matching\n",
    "- [a-z] -- Any lower case matching\n",
    "- [A-Z] -- Any upper case matching I}\n",
    "- cap Symbol is used to represent the start of Regular Expression\n",
    "- Dollor Symbol is used to represent the end od Regular Expression"
   ]
  },
  {
   "cell_type": "code",
   "execution_count": 4,
   "metadata": {},
   "outputs": [
    {
     "name": "stdout",
     "output_type": "stream",
     "text": [
      "True\n",
      "False\n"
     ]
    }
   ],
   "source": [
    "# Function to test the two digit number as input\n",
    "# True -- Input two digit number\n",
    "# FoLse -- Input not o two digit number\n",
    "import re\n",
    "def twoDigitMatching(n):\n",
    "    pattern = '[0-9]{2}$'\n",
    "    n = str(n) # str() converts input into str object\n",
    "    if re.match(pattern,n):\n",
    "        return True\n",
    "    return False\n",
    "print(twoDigitMatching(12)) # True\n",
    "print(twoDigitMatching(123)) # FaLse"
   ]
  },
  {
   "cell_type": "code",
   "execution_count": 5,
   "metadata": {},
   "outputs": [
    {
     "name": "stdout",
     "output_type": "stream",
     "text": [
      "False\n",
      "False\n",
      "False\n"
     ]
    }
   ],
   "source": [
    "# ReguLar Expression for Username\n",
    "# Username —- ShouLd contains Lower and Upper case characters\n",
    "# Length -- Min 5 Max 12\n",
    "def validateUsername(s):\n",
    "    pattern ='^[a-zA-Z]{S,12}$'\n",
    "    if re.match(pattern,s):\n",
    "        return True\n",
    "    else:\n",
    "        return False\n",
    "print(validateUsername('Anilkumar')) # True\n",
    "print(validateUsername('Anil')) # FaLse\n",
    "print(validateUsername('GitamVizagPythonFrogramming')) # FaLse"
   ]
  },
  {
   "cell_type": "markdown",
   "metadata": {},
   "source": [
    "## Regular Expression for Indian Mobile\n",
    "- 10 Digit Number\n",
    "     - first Number is starts from [8-9]\n",
    "     - Rest of 9 numbers is between [0-9]\n",
    "            - Example : 9851741520 # True\n",
    "            - Example : 5978201520 # False\n",
    "- 11 Digit Number\n",
    "   - First number can be 0\n",
    "   - second numbe can be [6-9]\n",
    "   - Rest of 9 numbers is between [0-9]\n",
    "        - Example : 09851741520 #True\n",
    "        - Example : 99851741520 #False\n",
    "- 13 Digit Number\n",
    "   - First number can be +\n",
    "   - Second number 9\n",
    "   \n",
    "  "
   ]
  },
  {
   "cell_type": "code",
   "execution_count": 11,
   "metadata": {},
   "outputs": [
    {
     "data": {
      "text/plain": [
       "True"
      ]
     },
     "execution_count": 11,
     "metadata": {},
     "output_type": "execute_result"
    }
   ],
   "source": [
    "# RuLe 1 : fife-9][9-9]{9}$\n",
    "# RuLe 2 : A[e][5-9][a-9]{9}$\n",
    "# RuLe 3 : “[+][9][1][6-9][e-9]{9}$\n",
    "import re\n",
    "def validatelndianPhone(n):\n",
    "    pattern = '^[6-9][0-9]{9}$|^[0][6-9][0-9]{9}$|^[+][9][1][6-9][0-9]{9}$'\n",
    "    n = str(n)\n",
    "    if re.match(pattern,n):\n",
    "        return True\n",
    "    return False\n",
    "validatelndianPhone('+919988774455') # True"
   ]
  },
  {
   "cell_type": "markdown",
   "metadata": {},
   "source": [
    "## Validate the EmaillD\n",
    "- Example : Username@DomainName.extension\n",
    "- Example : dsps@gmail.com\n",
    " ### Username :\n",
    "- Len of string will be [8-15]\n",
    "- No Spl characters except Underscore(_) and dot(.)\n",
    "- Username should not begins with Underscore(_)\n",
    "- All characters set Digits, Lower case and Upper Case\n",
    "    - Example : Ani|_1889\n",
    "### DomainName:\n",
    "- Len of string will be [3-18]\n",
    "- No Spls characters\n",
    "- Characters set will be Digits, Lower case and Upper case"
   ]
  },
  {
   "cell_type": "code",
   "execution_count": null,
   "metadata": {},
   "outputs": [],
   "source": []
  },
  {
   "cell_type": "code",
   "execution_count": 4,
   "metadata": {},
   "outputs": [
    {
     "data": {
      "text/plain": [
       "True"
      ]
     },
     "execution_count": 4,
     "metadata": {},
     "output_type": "execute_result"
    }
   ],
   "source": [
    "# Username RE : [6-9a-zA—Z][9-9a-zA-Z;.]{5,14}\n",
    "# Domain Name RE : [a-zQ-Q]{3,18}\n",
    "# Extension RE : [o-z]{2,4}\n",
    "# EmaiLID RE : A[9-90-zA-Z][8-9a-zA-Z;.]{5,14}[@][a-26-9]{3,18}[.][a-z]{2,4}$\n",
    "import re\n",
    "def validateEmail(email):\n",
    "    pattern = '^[0-9a-zA-Z][0-9a-zA-Z_.]{5,14}[@][a-z0-9]{3,18}[.][a-z]{2,4}$'\n",
    "    if re.match(pattern,email):\n",
    "        return True\n",
    "    return False\n",
    "validateEmail('anilkumar1889@hotmail.com')"
   ]
  },
  {
   "cell_type": "markdown",
   "metadata": {},
   "source": [
    "### Python Graphics\n",
    "- "
   ]
  },
  {
   "cell_type": "code",
   "execution_count": null,
   "metadata": {},
   "outputs": [],
   "source": []
  },
  {
   "cell_type": "code",
   "execution_count": null,
   "metadata": {},
   "outputs": [],
   "source": []
  },
  {
   "cell_type": "code",
   "execution_count": null,
   "metadata": {},
   "outputs": [],
   "source": []
  },
  {
   "cell_type": "code",
   "execution_count": null,
   "metadata": {},
   "outputs": [],
   "source": []
  },
  {
   "cell_type": "code",
   "execution_count": null,
   "metadata": {},
   "outputs": [],
   "source": []
  },
  {
   "cell_type": "code",
   "execution_count": null,
   "metadata": {},
   "outputs": [],
   "source": []
  },
  {
   "cell_type": "code",
   "execution_count": null,
   "metadata": {},
   "outputs": [],
   "source": []
  },
  {
   "cell_type": "code",
   "execution_count": null,
   "metadata": {},
   "outputs": [],
   "source": []
  },
  {
   "cell_type": "code",
   "execution_count": null,
   "metadata": {},
   "outputs": [],
   "source": []
  },
  {
   "cell_type": "code",
   "execution_count": null,
   "metadata": {},
   "outputs": [],
   "source": []
  },
  {
   "cell_type": "code",
   "execution_count": null,
   "metadata": {},
   "outputs": [],
   "source": []
  },
  {
   "cell_type": "code",
   "execution_count": null,
   "metadata": {},
   "outputs": [],
   "source": []
  }
 ],
 "metadata": {
  "kernelspec": {
   "display_name": "Python 3",
   "language": "python",
   "name": "python3"
  },
  "language_info": {
   "codemirror_mode": {
    "name": "ipython",
    "version": 3
   },
   "file_extension": ".py",
   "mimetype": "text/x-python",
   "name": "python",
   "nbconvert_exporter": "python",
   "pygments_lexer": "ipython3",
   "version": "3.7.3"
  }
 },
 "nbformat": 4,
 "nbformat_minor": 2
}
